{
  "nbformat": 4,
  "nbformat_minor": 0,
  "metadata": {
    "colab": {
      "provenance": [],
      "gpuType": "T4"
    },
    "kernelspec": {
      "name": "python3",
      "display_name": "Python 3"
    },
    "accelerator": "GPU"
  },
  "cells": [
    {
      "cell_type": "markdown",
      "metadata": {
        "id": "aO-7t1Y7-hV4"
      },
      "source": [
        "# Import Libraries"
      ]
    },
    {
      "cell_type": "code",
      "metadata": {
        "id": "8kH16rnZ7wt_"
      },
      "source": [
        "from __future__ import print_function\n",
        "import torch\n",
        "import torch.nn as nn\n",
        "import torch.nn.functional as F\n",
        "import torch.optim as optim\n",
        "from torchvision import datasets, transforms\n",
        "from model import S8_model\n",
        "from utils import get_incorrrect_predictions , plot_incorrect_predictions"
      ],
      "execution_count": 14,
      "outputs": []
    },
    {
      "cell_type": "code",
      "source": [],
      "metadata": {
        "id": "eSnxyc_p9375"
      },
      "execution_count": null,
      "outputs": []
    },
    {
      "cell_type": "markdown",
      "metadata": {
        "id": "ky3f_Odl-7um"
      },
      "source": [
        "## Data Transformations\n",
        "\n",
        "\n"
      ]
    },
    {
      "cell_type": "code",
      "metadata": {
        "id": "YtssFUKb-jqx"
      },
      "source": [
        "# Train Phase transformations\n",
        "train_transforms = transforms.Compose([\n",
        "                                      #  transforms.Resize((28, 28)),\n",
        "                                       transforms.ColorJitter(brightness=0.10, contrast=0.1, saturation=0.10, hue=0.1),\n",
        "                                       #transforms.RandomRotation((-7.0, 7.0), fill=(3,)),\n",
        "                                       transforms.ToTensor(),\n",
        "                                       transforms.Normalize((0.4914, 0.4822, 0.4465), (0.2023, 0.1994, 0.2010))\n",
        "                                       #transforms.Normalize((0.1307,), (0.3081,)) # The mean and std have to be sequences (e.g., tuples), therefore you should add a comma after the values.\n",
        "                                       # Note the difference between (0.1307) and (0.1307,)\n",
        "                                       ])\n",
        "\n",
        "# Test Phase transformations\n",
        "test_transforms = transforms.Compose([\n",
        "                                      #  transforms.Resize((28, 28)),\n",
        "                                       #transforms.ColorJitter(brightness=0.10, contrast=0.1, saturation=0.10, hue=0.1),\n",
        "                                       transforms.ToTensor(),\n",
        "                                       transforms.Normalize((0.4914, 0.4822, 0.4465), (0.2023, 0.1994, 0.2010))\n",
        "                                       #transforms.Normalize((0.1307,), (0.3081,))\n",
        "                                       ])\n"
      ],
      "execution_count": 2,
      "outputs": []
    },
    {
      "cell_type": "markdown",
      "metadata": {
        "id": "oQciFYo2B1mO"
      },
      "source": [
        "# Dataset and Creating Train/Test Split"
      ]
    },
    {
      "cell_type": "code",
      "metadata": {
        "id": "_4A84rlfDA23",
        "colab": {
          "base_uri": "https://localhost:8080/"
        },
        "outputId": "005808fc-a5a0-4216-c87c-314b9165f085"
      },
      "source": [
        "train = datasets.CIFAR10('./data', train=True, download=True, transform=train_transforms)\n",
        "test = datasets.CIFAR10('./data', train=False, download=True, transform=test_transforms)"
      ],
      "execution_count": 3,
      "outputs": [
        {
          "output_type": "stream",
          "name": "stdout",
          "text": [
            "Files already downloaded and verified\n",
            "Files already downloaded and verified\n"
          ]
        }
      ]
    },
    {
      "cell_type": "code",
      "source": [
        "train.classes"
      ],
      "metadata": {
        "colab": {
          "base_uri": "https://localhost:8080/"
        },
        "id": "lLCIQAiq987I",
        "outputId": "68bf05d3-31ae-4565-a1ff-87e049790b55"
      },
      "execution_count": 4,
      "outputs": [
        {
          "output_type": "execute_result",
          "data": {
            "text/plain": [
              "['airplane',\n",
              " 'automobile',\n",
              " 'bird',\n",
              " 'cat',\n",
              " 'deer',\n",
              " 'dog',\n",
              " 'frog',\n",
              " 'horse',\n",
              " 'ship',\n",
              " 'truck']"
            ]
          },
          "metadata": {},
          "execution_count": 4
        }
      ]
    },
    {
      "cell_type": "code",
      "source": [
        "class_map = {\n",
        " 'airplane' : 0,\n",
        " 'automobile' : 1,\n",
        " 'bird': 2,\n",
        " 'cat' : 3,\n",
        " 'deer' : 4,\n",
        " 'dog' : 5,\n",
        " 'frog' : 6,\n",
        " 'horse' : 7,\n",
        " 'ship' : 8,\n",
        " 'truck' : 9\n",
        "}"
      ],
      "metadata": {
        "id": "k54T4QUdNdDc"
      },
      "execution_count": 5,
      "outputs": []
    },
    {
      "cell_type": "markdown",
      "metadata": {
        "id": "qgldp_3-Dn0c"
      },
      "source": [
        "# Dataloader Arguments & Test/Train Dataloaders\n"
      ]
    },
    {
      "cell_type": "code",
      "metadata": {
        "id": "C8OLDR79DrHG",
        "colab": {
          "base_uri": "https://localhost:8080/"
        },
        "outputId": "b4bc4321-0d48-4b07-f0b2-468862e04287"
      },
      "source": [
        "SEED = 1\n",
        "\n",
        "# CUDA?\n",
        "cuda = torch.cuda.is_available()\n",
        "print(\"CUDA Available?\", cuda)\n",
        "\n",
        "# For reproducibility\n",
        "torch.manual_seed(SEED)\n",
        "\n",
        "if cuda:\n",
        "    torch.cuda.manual_seed(SEED)\n",
        "\n",
        "# dataloader arguments - something you'll fetch these from cmdprmt\n",
        "dataloader_args = dict(shuffle=True, batch_size=64, num_workers=4, pin_memory=True) if cuda else dict(shuffle=True, batch_size=64)\n",
        "\n",
        "# train dataloader\n",
        "train_loader = torch.utils.data.DataLoader(train, **dataloader_args)\n",
        "\n",
        "# test dataloader\n",
        "test_loader = torch.utils.data.DataLoader(test, **dataloader_args)"
      ],
      "execution_count": 6,
      "outputs": [
        {
          "output_type": "stream",
          "name": "stdout",
          "text": [
            "CUDA Available? True\n"
          ]
        },
        {
          "output_type": "stream",
          "name": "stderr",
          "text": [
            "/usr/local/lib/python3.10/dist-packages/torch/utils/data/dataloader.py:560: UserWarning: This DataLoader will create 4 worker processes in total. Our suggested max number of worker in current system is 2, which is smaller than what this DataLoader is going to create. Please be aware that excessive worker creation might get DataLoader running slow or even freeze, lower the worker number to avoid potential slowness/freeze if necessary.\n",
            "  warnings.warn(_create_warning_msg(\n"
          ]
        }
      ]
    },
    {
      "cell_type": "markdown",
      "metadata": {
        "id": "M3-vp8X9LCWo"
      },
      "source": [
        "# Model Params\n"
      ]
    },
    {
      "cell_type": "code",
      "metadata": {
        "id": "5skB97zIJQQe",
        "colab": {
          "base_uri": "https://localhost:8080/"
        },
        "outputId": "89ab3be0-4aba-47f6-9bc1-933cb310efbd"
      },
      "source": [
        "print( '+++++++++++++++++++++++ Parameters for Batch Normalization Model +++++++++++++++++++++++++++++++++++'  )\n",
        "!pip install torchsummary\n",
        "from torchsummary import summary\n",
        "use_cuda = torch.cuda.is_available()\n",
        "device = torch.device(\"cuda\" if use_cuda else \"cpu\")\n",
        "print(device)\n",
        "model = S8_model('BN').to(device)\n",
        "summary(model, input_size=(3, 32, 32))"
      ],
      "execution_count": 8,
      "outputs": [
        {
          "output_type": "stream",
          "name": "stdout",
          "text": [
            "+++++++++++++++++++++++ Parameters for Batch Normalization Model +++++++++++++++++++++++++++++++++++\n",
            "Looking in indexes: https://pypi.org/simple, https://us-python.pkg.dev/colab-wheels/public/simple/\n",
            "Requirement already satisfied: torchsummary in /usr/local/lib/python3.10/dist-packages (1.5.1)\n",
            "cuda\n",
            "----------------------------------------------------------------\n",
            "        Layer (type)               Output Shape         Param #\n",
            "================================================================\n",
            "            Conv2d-1            [-1, 8, 32, 32]             216\n",
            "              ReLU-2            [-1, 8, 32, 32]               0\n",
            "       BatchNorm2d-3            [-1, 8, 32, 32]              16\n",
            "           Dropout-4            [-1, 8, 32, 32]               0\n",
            "            Conv2d-5            [-1, 8, 32, 32]             576\n",
            "              ReLU-6            [-1, 8, 32, 32]               0\n",
            "       BatchNorm2d-7            [-1, 8, 32, 32]              16\n",
            "           Dropout-8            [-1, 8, 32, 32]               0\n",
            "            Conv2d-9            [-1, 7, 32, 32]              56\n",
            "        MaxPool2d-10            [-1, 7, 16, 16]               0\n",
            "           Conv2d-11           [-1, 16, 16, 16]           1,008\n",
            "             ReLU-12           [-1, 16, 16, 16]               0\n",
            "      BatchNorm2d-13           [-1, 16, 16, 16]              32\n",
            "          Dropout-14           [-1, 16, 16, 16]               0\n",
            "           Conv2d-15           [-1, 16, 16, 16]           2,304\n",
            "             ReLU-16           [-1, 16, 16, 16]               0\n",
            "      BatchNorm2d-17           [-1, 16, 16, 16]              32\n",
            "          Dropout-18           [-1, 16, 16, 16]               0\n",
            "           Conv2d-19           [-1, 16, 16, 16]           2,304\n",
            "             ReLU-20           [-1, 16, 16, 16]               0\n",
            "      BatchNorm2d-21           [-1, 16, 16, 16]              32\n",
            "          Dropout-22           [-1, 16, 16, 16]               0\n",
            "           Conv2d-23           [-1, 10, 16, 16]             160\n",
            "        MaxPool2d-24             [-1, 10, 8, 8]               0\n",
            "           Conv2d-25             [-1, 32, 8, 8]           2,880\n",
            "             ReLU-26             [-1, 32, 8, 8]               0\n",
            "      BatchNorm2d-27             [-1, 32, 8, 8]              64\n",
            "          Dropout-28             [-1, 32, 8, 8]               0\n",
            "           Conv2d-29             [-1, 32, 8, 8]           9,216\n",
            "             ReLU-30             [-1, 32, 8, 8]               0\n",
            "      BatchNorm2d-31             [-1, 32, 8, 8]              64\n",
            "          Dropout-32             [-1, 32, 8, 8]               0\n",
            "           Conv2d-33             [-1, 32, 8, 8]           9,216\n",
            "             ReLU-34             [-1, 32, 8, 8]               0\n",
            "        AvgPool2d-35             [-1, 32, 1, 1]               0\n",
            "           Conv2d-36             [-1, 10, 1, 1]             320\n",
            "================================================================\n",
            "Total params: 28,512\n",
            "Trainable params: 28,512\n",
            "Non-trainable params: 0\n",
            "----------------------------------------------------------------\n",
            "Input size (MB): 0.01\n",
            "Forward/backward pass size (MB): 1.12\n",
            "Params size (MB): 0.11\n",
            "Estimated Total Size (MB): 1.24\n",
            "----------------------------------------------------------------\n"
          ]
        }
      ]
    },
    {
      "cell_type": "code",
      "source": [
        "print('+++++++++++++++++++++++ Parameters for Layer Normalization Model +++++++++++++++++++++++++++++++++++ ')\n",
        "!pip install torchsummary\n",
        "from torchsummary import summary\n",
        "use_cuda = torch.cuda.is_available()\n",
        "device = torch.device(\"cuda\" if use_cuda else \"cpu\")\n",
        "print(device)\n",
        "model = S8_model('LN').to(device)\n",
        "summary(model, input_size=(3, 32, 32))"
      ],
      "metadata": {
        "colab": {
          "base_uri": "https://localhost:8080/"
        },
        "id": "WhBkvoo3uhg5",
        "outputId": "a04f7745-4646-4dda-a196-f4ade90c5353"
      },
      "execution_count": 9,
      "outputs": [
        {
          "output_type": "stream",
          "name": "stdout",
          "text": [
            "+++++++++++++++++++++++ Parameters for Layer Normalization Model +++++++++++++++++++++++++++++++++++ \n",
            "Looking in indexes: https://pypi.org/simple, https://us-python.pkg.dev/colab-wheels/public/simple/\n",
            "Requirement already satisfied: torchsummary in /usr/local/lib/python3.10/dist-packages (1.5.1)\n",
            "cuda\n",
            "----------------------------------------------------------------\n",
            "        Layer (type)               Output Shape         Param #\n",
            "================================================================\n",
            "            Conv2d-1            [-1, 8, 32, 32]             216\n",
            "              ReLU-2            [-1, 8, 32, 32]               0\n",
            "         GroupNorm-3            [-1, 8, 32, 32]              16\n",
            "           Dropout-4            [-1, 8, 32, 32]               0\n",
            "            Conv2d-5            [-1, 8, 32, 32]             576\n",
            "              ReLU-6            [-1, 8, 32, 32]               0\n",
            "         GroupNorm-7            [-1, 8, 32, 32]              16\n",
            "           Dropout-8            [-1, 8, 32, 32]               0\n",
            "            Conv2d-9            [-1, 7, 32, 32]              56\n",
            "        MaxPool2d-10            [-1, 7, 16, 16]               0\n",
            "           Conv2d-11           [-1, 16, 16, 16]           1,008\n",
            "             ReLU-12           [-1, 16, 16, 16]               0\n",
            "        GroupNorm-13           [-1, 16, 16, 16]              32\n",
            "          Dropout-14           [-1, 16, 16, 16]               0\n",
            "           Conv2d-15           [-1, 16, 16, 16]           2,304\n",
            "             ReLU-16           [-1, 16, 16, 16]               0\n",
            "        GroupNorm-17           [-1, 16, 16, 16]              32\n",
            "          Dropout-18           [-1, 16, 16, 16]               0\n",
            "           Conv2d-19           [-1, 16, 16, 16]           2,304\n",
            "             ReLU-20           [-1, 16, 16, 16]               0\n",
            "        GroupNorm-21           [-1, 16, 16, 16]              32\n",
            "          Dropout-22           [-1, 16, 16, 16]               0\n",
            "           Conv2d-23           [-1, 10, 16, 16]             160\n",
            "        MaxPool2d-24             [-1, 10, 8, 8]               0\n",
            "           Conv2d-25             [-1, 32, 8, 8]           2,880\n",
            "             ReLU-26             [-1, 32, 8, 8]               0\n",
            "        GroupNorm-27             [-1, 32, 8, 8]              64\n",
            "          Dropout-28             [-1, 32, 8, 8]               0\n",
            "           Conv2d-29             [-1, 32, 8, 8]           9,216\n",
            "             ReLU-30             [-1, 32, 8, 8]               0\n",
            "        GroupNorm-31             [-1, 32, 8, 8]              64\n",
            "          Dropout-32             [-1, 32, 8, 8]               0\n",
            "           Conv2d-33             [-1, 32, 8, 8]           9,216\n",
            "             ReLU-34             [-1, 32, 8, 8]               0\n",
            "        AvgPool2d-35             [-1, 32, 1, 1]               0\n",
            "           Conv2d-36             [-1, 10, 1, 1]             320\n",
            "================================================================\n",
            "Total params: 28,512\n",
            "Trainable params: 28,512\n",
            "Non-trainable params: 0\n",
            "----------------------------------------------------------------\n",
            "Input size (MB): 0.01\n",
            "Forward/backward pass size (MB): 1.12\n",
            "Params size (MB): 0.11\n",
            "Estimated Total Size (MB): 1.24\n",
            "----------------------------------------------------------------\n"
          ]
        }
      ]
    },
    {
      "cell_type": "code",
      "source": [
        "print('+++++++++++++++++++++++ Parameters for Layer Normalization Model +++++++++++++++++++++++++++++++++++ ')\n",
        "!pip install torchsummary\n",
        "from torchsummary import summary\n",
        "use_cuda = torch.cuda.is_available()\n",
        "device = torch.device(\"cuda\" if use_cuda else \"cpu\")\n",
        "print(device)\n",
        "model = S8_model('LN').to(device)\n",
        "summary(model, input_size=(3, 32, 32))"
      ],
      "metadata": {
        "colab": {
          "base_uri": "https://localhost:8080/"
        },
        "id": "a5xcmBTNylvW",
        "outputId": "1bc142d4-a105-42bf-a5d9-62aa258bbf24"
      },
      "execution_count": 10,
      "outputs": [
        {
          "output_type": "stream",
          "name": "stdout",
          "text": [
            "+++++++++++++++++++++++ Parameters for Layer Normalization Model +++++++++++++++++++++++++++++++++++ \n",
            "Looking in indexes: https://pypi.org/simple, https://us-python.pkg.dev/colab-wheels/public/simple/\n",
            "Requirement already satisfied: torchsummary in /usr/local/lib/python3.10/dist-packages (1.5.1)\n",
            "cuda\n",
            "----------------------------------------------------------------\n",
            "        Layer (type)               Output Shape         Param #\n",
            "================================================================\n",
            "            Conv2d-1            [-1, 8, 32, 32]             216\n",
            "              ReLU-2            [-1, 8, 32, 32]               0\n",
            "         GroupNorm-3            [-1, 8, 32, 32]              16\n",
            "           Dropout-4            [-1, 8, 32, 32]               0\n",
            "            Conv2d-5            [-1, 8, 32, 32]             576\n",
            "              ReLU-6            [-1, 8, 32, 32]               0\n",
            "         GroupNorm-7            [-1, 8, 32, 32]              16\n",
            "           Dropout-8            [-1, 8, 32, 32]               0\n",
            "            Conv2d-9            [-1, 7, 32, 32]              56\n",
            "        MaxPool2d-10            [-1, 7, 16, 16]               0\n",
            "           Conv2d-11           [-1, 16, 16, 16]           1,008\n",
            "             ReLU-12           [-1, 16, 16, 16]               0\n",
            "        GroupNorm-13           [-1, 16, 16, 16]              32\n",
            "          Dropout-14           [-1, 16, 16, 16]               0\n",
            "           Conv2d-15           [-1, 16, 16, 16]           2,304\n",
            "             ReLU-16           [-1, 16, 16, 16]               0\n",
            "        GroupNorm-17           [-1, 16, 16, 16]              32\n",
            "          Dropout-18           [-1, 16, 16, 16]               0\n",
            "           Conv2d-19           [-1, 16, 16, 16]           2,304\n",
            "             ReLU-20           [-1, 16, 16, 16]               0\n",
            "        GroupNorm-21           [-1, 16, 16, 16]              32\n",
            "          Dropout-22           [-1, 16, 16, 16]               0\n",
            "           Conv2d-23           [-1, 10, 16, 16]             160\n",
            "        MaxPool2d-24             [-1, 10, 8, 8]               0\n",
            "           Conv2d-25             [-1, 32, 8, 8]           2,880\n",
            "             ReLU-26             [-1, 32, 8, 8]               0\n",
            "        GroupNorm-27             [-1, 32, 8, 8]              64\n",
            "          Dropout-28             [-1, 32, 8, 8]               0\n",
            "           Conv2d-29             [-1, 32, 8, 8]           9,216\n",
            "             ReLU-30             [-1, 32, 8, 8]               0\n",
            "        GroupNorm-31             [-1, 32, 8, 8]              64\n",
            "          Dropout-32             [-1, 32, 8, 8]               0\n",
            "           Conv2d-33             [-1, 32, 8, 8]           9,216\n",
            "             ReLU-34             [-1, 32, 8, 8]               0\n",
            "        AvgPool2d-35             [-1, 32, 1, 1]               0\n",
            "           Conv2d-36             [-1, 10, 1, 1]             320\n",
            "================================================================\n",
            "Total params: 28,512\n",
            "Trainable params: 28,512\n",
            "Non-trainable params: 0\n",
            "----------------------------------------------------------------\n",
            "Input size (MB): 0.01\n",
            "Forward/backward pass size (MB): 1.12\n",
            "Params size (MB): 0.11\n",
            "Estimated Total Size (MB): 1.24\n",
            "----------------------------------------------------------------\n"
          ]
        }
      ]
    },
    {
      "cell_type": "markdown",
      "metadata": {
        "id": "1__x_SbrL7z3"
      },
      "source": [
        "# Training and Testing\n",
        "\n",
        "\n",
        "\n",
        "Looking at logs can be boring, so we'll introduce **tqdm** progressbar to get cooler logs.\n",
        "\n",
        "Let's write train and test functions"
      ]
    },
    {
      "cell_type": "code",
      "metadata": {
        "id": "fbkF2nN_LYIb"
      },
      "source": [
        "from tqdm import tqdm\n",
        "\n",
        "train_losses = []\n",
        "test_losses = []\n",
        "train_acc = []\n",
        "test_acc = []\n",
        "\n",
        "def train(model, device, train_loader, optimizer, epoch):\n",
        "  model.train()\n",
        "  pbar = tqdm(train_loader)\n",
        "  correct = 0\n",
        "  processed = 0\n",
        "  for batch_idx, (data, target) in enumerate(pbar):\n",
        "    # get samples\n",
        "    data, target = data.to(device), target.to(device)\n",
        "\n",
        "    # Init\n",
        "    optimizer.zero_grad()\n",
        "    # In PyTorch, we need to set the gradients to zero before starting to do backpropragation because PyTorch accumulates the gradients on subsequent backward passes.\n",
        "    # Because of this, when you start your training loop, ideally you should zero out the gradients so that you do the parameter update correctly.\n",
        "\n",
        "    # Predict\n",
        "    y_pred = model(data)\n",
        "\n",
        "    # Calculate loss\n",
        "    loss = F.nll_loss(y_pred, target)\n",
        "    train_losses.append(loss)\n",
        "\n",
        "    # Backpropagation\n",
        "    loss.backward()\n",
        "    optimizer.step()\n",
        "\n",
        "    # Update pbar-tqdm\n",
        "\n",
        "    pred = y_pred.argmax(dim=1, keepdim=True)  # get the index of the max log-probability\n",
        "    correct += pred.eq(target.view_as(pred)).sum().item()\n",
        "    processed += len(data)\n",
        "\n",
        "    pbar.set_description(desc= f'Loss={loss.item()} Batch_id={batch_idx} Accuracy={100*correct/processed:0.2f}')\n",
        "    train_acc.append(100*correct/processed)\n",
        "\n",
        "def test(model, device, test_loader):\n",
        "    model.eval()\n",
        "    test_loss = 0\n",
        "    correct = 0\n",
        "    with torch.no_grad():\n",
        "        for data, target in test_loader:\n",
        "            data, target = data.to(device), target.to(device)\n",
        "            output = model(data)\n",
        "            test_loss += F.nll_loss(output, target, reduction='sum').item()  # sum up batch loss\n",
        "            pred = output.argmax(dim=1, keepdim=True)  # get the index of the max log-probability\n",
        "            correct += pred.eq(target.view_as(pred)).sum().item()\n",
        "\n",
        "    test_loss /= len(test_loader.dataset)\n",
        "    test_losses.append(test_loss)\n",
        "\n",
        "    print('\\nTest set: Average loss: {:.4f}, Accuracy: {}/{} ({:.2f}%)\\n'.format(\n",
        "        test_loss, correct, len(test_loader.dataset),\n",
        "        100. * correct / len(test_loader.dataset)))\n",
        "\n",
        "    test_acc.append(100. * correct / len(test_loader.dataset))"
      ],
      "execution_count": 11,
      "outputs": []
    },
    {
      "cell_type": "code",
      "metadata": {
        "id": "aE5Le6FYHhc8",
        "colab": {
          "base_uri": "https://localhost:8080/",
          "height": 1000
        },
        "outputId": "46ca5d79-4b8a-4760-d35e-79901c9adf0d"
      },
      "source": [
        "from torch.optim.lr_scheduler import StepLR\n",
        "print('++++++++++++++++++++++++++Batch Normalization Model +++++++++++++++++++++++++++++++++++++++++')\n",
        "\n",
        "model =  model = S8_model('BN').to(device)\n",
        "optimizer = optim.SGD(model.parameters(), lr=0.01, momentum=0.9)\n",
        "# scheduler = StepLR(optimizer, step_size=6, gamma=0.1)\n",
        "\n",
        "EPOCHS = 20\n",
        "for epoch in range(EPOCHS):\n",
        "    print(\"EPOCH:\", epoch)\n",
        "    train(model, device, train_loader, optimizer, epoch)\n",
        "    # scheduler.step()\n",
        "    test(model, device, test_loader)\n",
        "\n",
        "print('++++++++++++++++++++++++++Misclassified Images Batch Normalization Model +++++++++++++++++++++++++++++++++++++++++')\n",
        "incorrect = get_incorrrect_predictions(model, test_loader, device)\n",
        "plot_incorrect_predictions(incorrect, class_map)"
      ],
      "execution_count": 12,
      "outputs": [
        {
          "output_type": "stream",
          "name": "stdout",
          "text": [
            "++++++++++++++++++++++++++Batch Normalization Model +++++++++++++++++++++++++++++++++++++++++\n",
            "EPOCH: 0\n"
          ]
        },
        {
          "output_type": "stream",
          "name": "stderr",
          "text": [
            "Loss=1.374416470527649 Batch_id=781 Accuracy=41.87: 100%|██████████| 782/782 [00:49<00:00, 15.71it/s]\n"
          ]
        },
        {
          "output_type": "stream",
          "name": "stdout",
          "text": [
            "\n",
            "Test set: Average loss: 1.4854, Accuracy: 4718/10000 (47.18%)\n",
            "\n",
            "EPOCH: 1\n"
          ]
        },
        {
          "output_type": "stream",
          "name": "stderr",
          "text": [
            "Loss=1.73898184299469 Batch_id=781 Accuracy=55.16: 100%|██████████| 782/782 [00:51<00:00, 15.27it/s]\n"
          ]
        },
        {
          "output_type": "stream",
          "name": "stdout",
          "text": [
            "\n",
            "Test set: Average loss: 1.3330, Accuracy: 5428/10000 (54.28%)\n",
            "\n",
            "EPOCH: 2\n"
          ]
        },
        {
          "output_type": "stream",
          "name": "stderr",
          "text": [
            "Loss=1.034288763999939 Batch_id=781 Accuracy=59.96: 100%|██████████| 782/782 [00:58<00:00, 13.34it/s]\n"
          ]
        },
        {
          "output_type": "stream",
          "name": "stdout",
          "text": [
            "\n",
            "Test set: Average loss: 1.0414, Accuracy: 6328/10000 (63.28%)\n",
            "\n",
            "EPOCH: 3\n"
          ]
        },
        {
          "output_type": "stream",
          "name": "stderr",
          "text": [
            "Loss=1.2643343210220337 Batch_id=781 Accuracy=62.46: 100%|██████████| 782/782 [00:49<00:00, 15.65it/s]\n"
          ]
        },
        {
          "output_type": "stream",
          "name": "stdout",
          "text": [
            "\n",
            "Test set: Average loss: 1.0584, Accuracy: 6214/10000 (62.14%)\n",
            "\n",
            "EPOCH: 4\n"
          ]
        },
        {
          "output_type": "stream",
          "name": "stderr",
          "text": [
            "Loss=1.20867121219635 Batch_id=781 Accuracy=64.22: 100%|██████████| 782/782 [00:51<00:00, 15.13it/s]\n"
          ]
        },
        {
          "output_type": "stream",
          "name": "stdout",
          "text": [
            "\n",
            "Test set: Average loss: 1.0817, Accuracy: 6187/10000 (61.87%)\n",
            "\n",
            "EPOCH: 5\n"
          ]
        },
        {
          "output_type": "stream",
          "name": "stderr",
          "text": [
            "Loss=1.104572057723999 Batch_id=781 Accuracy=65.47: 100%|██████████| 782/782 [00:52<00:00, 14.83it/s]\n"
          ]
        },
        {
          "output_type": "stream",
          "name": "stdout",
          "text": [
            "\n",
            "Test set: Average loss: 1.0161, Accuracy: 6345/10000 (63.45%)\n",
            "\n",
            "EPOCH: 6\n"
          ]
        },
        {
          "output_type": "stream",
          "name": "stderr",
          "text": [
            "Loss=0.8867225646972656 Batch_id=781 Accuracy=66.56: 100%|██████████| 782/782 [00:51<00:00, 15.22it/s]\n"
          ]
        },
        {
          "output_type": "stream",
          "name": "stdout",
          "text": [
            "\n",
            "Test set: Average loss: 0.9438, Accuracy: 6629/10000 (66.29%)\n",
            "\n",
            "EPOCH: 7\n"
          ]
        },
        {
          "output_type": "stream",
          "name": "stderr",
          "text": [
            "Loss=1.2078449726104736 Batch_id=781 Accuracy=67.48: 100%|██████████| 782/782 [00:49<00:00, 15.82it/s]\n"
          ]
        },
        {
          "output_type": "stream",
          "name": "stdout",
          "text": [
            "\n",
            "Test set: Average loss: 0.9687, Accuracy: 6561/10000 (65.61%)\n",
            "\n",
            "EPOCH: 8\n"
          ]
        },
        {
          "output_type": "stream",
          "name": "stderr",
          "text": [
            "Loss=0.6698276996612549 Batch_id=781 Accuracy=68.34: 100%|██████████| 782/782 [00:49<00:00, 15.74it/s]\n"
          ]
        },
        {
          "output_type": "stream",
          "name": "stdout",
          "text": [
            "\n",
            "Test set: Average loss: 0.9057, Accuracy: 6825/10000 (68.25%)\n",
            "\n",
            "EPOCH: 9\n"
          ]
        },
        {
          "output_type": "stream",
          "name": "stderr",
          "text": [
            "Loss=1.3802868127822876 Batch_id=781 Accuracy=69.16: 100%|██████████| 782/782 [00:50<00:00, 15.51it/s]\n"
          ]
        },
        {
          "output_type": "stream",
          "name": "stdout",
          "text": [
            "\n",
            "Test set: Average loss: 0.9379, Accuracy: 6721/10000 (67.21%)\n",
            "\n",
            "EPOCH: 10\n"
          ]
        },
        {
          "output_type": "stream",
          "name": "stderr",
          "text": [
            "Loss=1.2121397256851196 Batch_id=781 Accuracy=69.82: 100%|██████████| 782/782 [00:48<00:00, 16.04it/s]\n"
          ]
        },
        {
          "output_type": "stream",
          "name": "stdout",
          "text": [
            "\n",
            "Test set: Average loss: 0.8390, Accuracy: 7038/10000 (70.38%)\n",
            "\n",
            "EPOCH: 11\n"
          ]
        },
        {
          "output_type": "stream",
          "name": "stderr",
          "text": [
            "Loss=0.8199015259742737 Batch_id=781 Accuracy=70.47: 100%|██████████| 782/782 [00:49<00:00, 15.89it/s]\n"
          ]
        },
        {
          "output_type": "stream",
          "name": "stdout",
          "text": [
            "\n",
            "Test set: Average loss: 0.8526, Accuracy: 7005/10000 (70.05%)\n",
            "\n",
            "EPOCH: 12\n"
          ]
        },
        {
          "output_type": "stream",
          "name": "stderr",
          "text": [
            "Loss=0.6939976811408997 Batch_id=781 Accuracy=71.04: 100%|██████████| 782/782 [00:50<00:00, 15.48it/s]\n"
          ]
        },
        {
          "output_type": "stream",
          "name": "stdout",
          "text": [
            "\n",
            "Test set: Average loss: 0.8860, Accuracy: 6922/10000 (69.22%)\n",
            "\n",
            "EPOCH: 13\n"
          ]
        },
        {
          "output_type": "stream",
          "name": "stderr",
          "text": [
            "Loss=0.6937751173973083 Batch_id=781 Accuracy=71.51: 100%|██████████| 782/782 [00:47<00:00, 16.53it/s]\n"
          ]
        },
        {
          "output_type": "stream",
          "name": "stdout",
          "text": [
            "\n",
            "Test set: Average loss: 0.8222, Accuracy: 7090/10000 (70.90%)\n",
            "\n",
            "EPOCH: 14\n"
          ]
        },
        {
          "output_type": "stream",
          "name": "stderr",
          "text": [
            "Loss=0.8249399662017822 Batch_id=781 Accuracy=71.94: 100%|██████████| 782/782 [00:47<00:00, 16.50it/s]\n"
          ]
        },
        {
          "output_type": "stream",
          "name": "stdout",
          "text": [
            "\n",
            "Test set: Average loss: 0.8570, Accuracy: 7029/10000 (70.29%)\n",
            "\n",
            "EPOCH: 15\n"
          ]
        },
        {
          "output_type": "stream",
          "name": "stderr",
          "text": [
            "Loss=0.8451091051101685 Batch_id=781 Accuracy=72.32: 100%|██████████| 782/782 [00:47<00:00, 16.42it/s]\n"
          ]
        },
        {
          "output_type": "stream",
          "name": "stdout",
          "text": [
            "\n",
            "Test set: Average loss: 0.7995, Accuracy: 7189/10000 (71.89%)\n",
            "\n",
            "EPOCH: 16\n"
          ]
        },
        {
          "output_type": "stream",
          "name": "stderr",
          "text": [
            "Loss=0.5144017934799194 Batch_id=781 Accuracy=72.75: 100%|██████████| 782/782 [00:47<00:00, 16.54it/s]\n"
          ]
        },
        {
          "output_type": "stream",
          "name": "stdout",
          "text": [
            "\n",
            "Test set: Average loss: 0.7867, Accuracy: 7295/10000 (72.95%)\n",
            "\n",
            "EPOCH: 17\n"
          ]
        },
        {
          "output_type": "stream",
          "name": "stderr",
          "text": [
            "Loss=0.6707388758659363 Batch_id=781 Accuracy=73.17: 100%|██████████| 782/782 [00:48<00:00, 16.13it/s]\n"
          ]
        },
        {
          "output_type": "stream",
          "name": "stdout",
          "text": [
            "\n",
            "Test set: Average loss: 0.7630, Accuracy: 7284/10000 (72.84%)\n",
            "\n",
            "EPOCH: 18\n"
          ]
        },
        {
          "output_type": "stream",
          "name": "stderr",
          "text": [
            "Loss=0.8779723048210144 Batch_id=781 Accuracy=73.25: 100%|██████████| 782/782 [00:47<00:00, 16.59it/s]\n"
          ]
        },
        {
          "output_type": "stream",
          "name": "stdout",
          "text": [
            "\n",
            "Test set: Average loss: 0.8046, Accuracy: 7157/10000 (71.57%)\n",
            "\n",
            "EPOCH: 19\n"
          ]
        },
        {
          "output_type": "stream",
          "name": "stderr",
          "text": [
            "Loss=0.534607470035553 Batch_id=781 Accuracy=73.61: 100%|██████████| 782/782 [00:48<00:00, 16.20it/s]\n"
          ]
        },
        {
          "output_type": "stream",
          "name": "stdout",
          "text": [
            "\n",
            "Test set: Average loss: 0.7799, Accuracy: 7322/10000 (73.22%)\n",
            "\n",
            "++++++++++++++++++++++++++Misclassified Images Batch Normalization Model +++++++++++++++++++++++++++++++++++++++++\n"
          ]
        },
        {
          "output_type": "stream",
          "name": "stderr",
          "text": [
            "WARNING:matplotlib.image:Clipping input data to the valid range for imshow with RGB data ([0..1] for floats or [0..255] for integers).\n",
            "WARNING:matplotlib.image:Clipping input data to the valid range for imshow with RGB data ([0..1] for floats or [0..255] for integers).\n",
            "WARNING:matplotlib.image:Clipping input data to the valid range for imshow with RGB data ([0..1] for floats or [0..255] for integers).\n",
            "WARNING:matplotlib.image:Clipping input data to the valid range for imshow with RGB data ([0..1] for floats or [0..255] for integers).\n",
            "WARNING:matplotlib.image:Clipping input data to the valid range for imshow with RGB data ([0..1] for floats or [0..255] for integers).\n",
            "WARNING:matplotlib.image:Clipping input data to the valid range for imshow with RGB data ([0..1] for floats or [0..255] for integers).\n",
            "WARNING:matplotlib.image:Clipping input data to the valid range for imshow with RGB data ([0..1] for floats or [0..255] for integers).\n",
            "WARNING:matplotlib.image:Clipping input data to the valid range for imshow with RGB data ([0..1] for floats or [0..255] for integers).\n",
            "WARNING:matplotlib.image:Clipping input data to the valid range for imshow with RGB data ([0..1] for floats or [0..255] for integers).\n",
            "WARNING:matplotlib.image:Clipping input data to the valid range for imshow with RGB data ([0..1] for floats or [0..255] for integers).\n"
          ]
        },
        {
          "output_type": "display_data",
          "data": {
            "text/plain": [
              "<Figure size 1000x500 with 10 Axes>"
            ],
            "image/png": "[encoded data removed]"
          },
          "metadata": {}
        }
      ]
    },
    {
      "cell_type": "code",
      "source": [
        "from torch.optim.lr_scheduler import StepLR\n",
        "print('++++++++++++++++++++++++++  Layer Normalization Model +++++++++++++++++++++++++++++++++++++++++')\n",
        "\n",
        "model = S8_model('LN').to(device)\n",
        "optimizer = optim.SGD(model.parameters(), lr=0.01, momentum=0.9)\n",
        "# scheduler = StepLR(optimizer, step_size=6, gamma=0.1)\n",
        "\n",
        "EPOCHS = 20\n",
        "for epoch in range(EPOCHS):\n",
        "    print(\"EPOCH:\", epoch)\n",
        "    train(model, device, train_loader, optimizer, epoch)\n",
        "    # scheduler.step()\n",
        "    test(model, device, test_loader)\n",
        "\n",
        "print('++++++++++++++++++++++++++Misclassified Images Layer  Normalization Model +++++++++++++++++++++++++++++++++++++++++')\n",
        "incorrect = get_incorrrect_predictions(model, test_loader, device)\n",
        "plot_incorrect_predictions(incorrect, class_map)"
      ],
      "metadata": {
        "colab": {
          "base_uri": "https://localhost:8080/",
          "height": 1000
        },
        "id": "B-If1nX6vLF0",
        "outputId": "152591d9-c1b1-4920-a5a9-8f09f7e27917"
      },
      "execution_count": 16,
      "outputs": [
        {
          "output_type": "stream",
          "name": "stdout",
          "text": [
            "++++++++++++++++++++++++++  Layer Normalization Model +++++++++++++++++++++++++++++++++++++++++\n",
            "EPOCH: 0\n"
          ]
        },
        {
          "output_type": "stream",
          "name": "stderr",
          "text": [
            "Loss=1.2134404182434082 Batch_id=781 Accuracy=36.08: 100%|██████████| 782/782 [00:47<00:00, 16.42it/s]\n"
          ]
        },
        {
          "output_type": "stream",
          "name": "stdout",
          "text": [
            "\n",
            "Test set: Average loss: 1.4448, Accuracy: 4698/10000 (46.98%)\n",
            "\n",
            "EPOCH: 1\n"
          ]
        },
        {
          "output_type": "stream",
          "name": "stderr",
          "text": [
            "Loss=1.2354011535644531 Batch_id=781 Accuracy=49.24: 100%|██████████| 782/782 [00:47<00:00, 16.38it/s]\n"
          ]
        },
        {
          "output_type": "stream",
          "name": "stdout",
          "text": [
            "\n",
            "Test set: Average loss: 1.4261, Accuracy: 4791/10000 (47.91%)\n",
            "\n",
            "EPOCH: 2\n"
          ]
        },
        {
          "output_type": "stream",
          "name": "stderr",
          "text": [
            "Loss=1.0401239395141602 Batch_id=781 Accuracy=55.57: 100%|██████████| 782/782 [00:48<00:00, 16.20it/s]\n"
          ]
        },
        {
          "output_type": "stream",
          "name": "stdout",
          "text": [
            "\n",
            "Test set: Average loss: 1.1834, Accuracy: 5736/10000 (57.36%)\n",
            "\n",
            "EPOCH: 3\n"
          ]
        },
        {
          "output_type": "stream",
          "name": "stderr",
          "text": [
            "Loss=1.4099476337432861 Batch_id=781 Accuracy=58.97: 100%|██████████| 782/782 [00:46<00:00, 16.65it/s]\n"
          ]
        },
        {
          "output_type": "stream",
          "name": "stdout",
          "text": [
            "\n",
            "Test set: Average loss: 1.0778, Accuracy: 6102/10000 (61.02%)\n",
            "\n",
            "EPOCH: 4\n"
          ]
        },
        {
          "output_type": "stream",
          "name": "stderr",
          "text": [
            "Loss=0.5249804854393005 Batch_id=781 Accuracy=61.96: 100%|██████████| 782/782 [00:48<00:00, 16.07it/s]\n"
          ]
        },
        {
          "output_type": "stream",
          "name": "stdout",
          "text": [
            "\n",
            "Test set: Average loss: 1.0452, Accuracy: 6261/10000 (62.61%)\n",
            "\n",
            "EPOCH: 5\n"
          ]
        },
        {
          "output_type": "stream",
          "name": "stderr",
          "text": [
            "Loss=1.7583457231521606 Batch_id=781 Accuracy=63.94: 100%|██████████| 782/782 [00:47<00:00, 16.62it/s]\n"
          ]
        },
        {
          "output_type": "stream",
          "name": "stdout",
          "text": [
            "\n",
            "Test set: Average loss: 0.9739, Accuracy: 6537/10000 (65.37%)\n",
            "\n",
            "EPOCH: 6\n"
          ]
        },
        {
          "output_type": "stream",
          "name": "stderr",
          "text": [
            "Loss=1.5671231746673584 Batch_id=781 Accuracy=65.50: 100%|██████████| 782/782 [00:47<00:00, 16.40it/s]\n"
          ]
        },
        {
          "output_type": "stream",
          "name": "stdout",
          "text": [
            "\n",
            "Test set: Average loss: 0.9953, Accuracy: 6425/10000 (64.25%)\n",
            "\n",
            "EPOCH: 7\n"
          ]
        },
        {
          "output_type": "stream",
          "name": "stderr",
          "text": [
            "Loss=1.4264684915542603 Batch_id=781 Accuracy=66.89: 100%|██████████| 782/782 [00:47<00:00, 16.57it/s]\n"
          ]
        },
        {
          "output_type": "stream",
          "name": "stdout",
          "text": [
            "\n",
            "Test set: Average loss: 0.8831, Accuracy: 6870/10000 (68.70%)\n",
            "\n",
            "EPOCH: 8\n"
          ]
        },
        {
          "output_type": "stream",
          "name": "stderr",
          "text": [
            "Loss=1.124036192893982 Batch_id=781 Accuracy=67.76: 100%|██████████| 782/782 [00:46<00:00, 16.66it/s]\n"
          ]
        },
        {
          "output_type": "stream",
          "name": "stdout",
          "text": [
            "\n",
            "Test set: Average loss: 0.8927, Accuracy: 6873/10000 (68.73%)\n",
            "\n",
            "EPOCH: 9\n"
          ]
        },
        {
          "output_type": "stream",
          "name": "stderr",
          "text": [
            "Loss=0.7284384369850159 Batch_id=781 Accuracy=69.03: 100%|██████████| 782/782 [00:48<00:00, 16.28it/s]\n"
          ]
        },
        {
          "output_type": "stream",
          "name": "stdout",
          "text": [
            "\n",
            "Test set: Average loss: 0.8744, Accuracy: 6898/10000 (68.98%)\n",
            "\n",
            "EPOCH: 10\n"
          ]
        },
        {
          "output_type": "stream",
          "name": "stderr",
          "text": [
            "Loss=0.9948476552963257 Batch_id=781 Accuracy=69.94: 100%|██████████| 782/782 [00:46<00:00, 16.64it/s]\n"
          ]
        },
        {
          "output_type": "stream",
          "name": "stdout",
          "text": [
            "\n",
            "Test set: Average loss: 0.8271, Accuracy: 7095/10000 (70.95%)\n",
            "\n",
            "EPOCH: 11\n"
          ]
        },
        {
          "output_type": "stream",
          "name": "stderr",
          "text": [
            "Loss=0.566667914390564 Batch_id=781 Accuracy=70.65: 100%|██████████| 782/782 [00:48<00:00, 16.04it/s]\n"
          ]
        },
        {
          "output_type": "stream",
          "name": "stdout",
          "text": [
            "\n",
            "Test set: Average loss: 0.8201, Accuracy: 7129/10000 (71.29%)\n",
            "\n",
            "EPOCH: 12\n"
          ]
        },
        {
          "output_type": "stream",
          "name": "stderr",
          "text": [
            "Loss=1.3297277688980103 Batch_id=781 Accuracy=70.98: 100%|██████████| 782/782 [00:47<00:00, 16.62it/s]\n"
          ]
        },
        {
          "output_type": "stream",
          "name": "stdout",
          "text": [
            "\n",
            "Test set: Average loss: 0.8622, Accuracy: 6993/10000 (69.93%)\n",
            "\n",
            "EPOCH: 13\n"
          ]
        },
        {
          "output_type": "stream",
          "name": "stderr",
          "text": [
            "Loss=0.667535662651062 Batch_id=781 Accuracy=71.65: 100%|██████████| 782/782 [00:47<00:00, 16.58it/s]\n"
          ]
        },
        {
          "output_type": "stream",
          "name": "stdout",
          "text": [
            "\n",
            "Test set: Average loss: 0.8020, Accuracy: 7147/10000 (71.47%)\n",
            "\n",
            "EPOCH: 14\n"
          ]
        },
        {
          "output_type": "stream",
          "name": "stderr",
          "text": [
            "Loss=0.6884627342224121 Batch_id=781 Accuracy=72.28: 100%|██████████| 782/782 [00:46<00:00, 16.82it/s]\n"
          ]
        },
        {
          "output_type": "stream",
          "name": "stdout",
          "text": [
            "\n",
            "Test set: Average loss: 0.8066, Accuracy: 7155/10000 (71.55%)\n",
            "\n",
            "EPOCH: 15\n"
          ]
        },
        {
          "output_type": "stream",
          "name": "stderr",
          "text": [
            "Loss=0.6584919095039368 Batch_id=781 Accuracy=72.41: 100%|██████████| 782/782 [00:46<00:00, 16.76it/s]\n"
          ]
        },
        {
          "output_type": "stream",
          "name": "stdout",
          "text": [
            "\n",
            "Test set: Average loss: 0.7740, Accuracy: 7325/10000 (73.25%)\n",
            "\n",
            "EPOCH: 16\n"
          ]
        },
        {
          "output_type": "stream",
          "name": "stderr",
          "text": [
            "Loss=0.732742965221405 Batch_id=781 Accuracy=72.89: 100%|██████████| 782/782 [00:47<00:00, 16.38it/s]\n"
          ]
        },
        {
          "output_type": "stream",
          "name": "stdout",
          "text": [
            "\n",
            "Test set: Average loss: 0.7604, Accuracy: 7375/10000 (73.75%)\n",
            "\n",
            "EPOCH: 17\n"
          ]
        },
        {
          "output_type": "stream",
          "name": "stderr",
          "text": [
            "Loss=0.49572473764419556 Batch_id=781 Accuracy=73.51: 100%|██████████| 782/782 [00:46<00:00, 16.82it/s]\n"
          ]
        },
        {
          "output_type": "stream",
          "name": "stdout",
          "text": [
            "\n",
            "Test set: Average loss: 0.7688, Accuracy: 7310/10000 (73.10%)\n",
            "\n",
            "EPOCH: 18\n"
          ]
        },
        {
          "output_type": "stream",
          "name": "stderr",
          "text": [
            "Loss=1.047552227973938 Batch_id=781 Accuracy=73.47: 100%|██████████| 782/782 [00:48<00:00, 16.07it/s]\n"
          ]
        },
        {
          "output_type": "stream",
          "name": "stdout",
          "text": [
            "\n",
            "Test set: Average loss: 0.7377, Accuracy: 7439/10000 (74.39%)\n",
            "\n",
            "EPOCH: 19\n"
          ]
        },
        {
          "output_type": "stream",
          "name": "stderr",
          "text": [
            "Loss=0.6927679777145386 Batch_id=781 Accuracy=74.10: 100%|██████████| 782/782 [00:47<00:00, 16.59it/s]\n"
          ]
        },
        {
          "output_type": "stream",
          "name": "stdout",
          "text": [
            "\n",
            "Test set: Average loss: 0.7630, Accuracy: 7386/10000 (73.86%)\n",
            "\n",
            "++++++++++++++++++++++++++Misclassified Images Layer  Normalization Model +++++++++++++++++++++++++++++++++++++++++\n"
          ]
        },
        {
          "output_type": "stream",
          "name": "stderr",
          "text": [
            "WARNING:matplotlib.image:Clipping input data to the valid range for imshow with RGB data ([0..1] for floats or [0..255] for integers).\n",
            "WARNING:matplotlib.image:Clipping input data to the valid range for imshow with RGB data ([0..1] for floats or [0..255] for integers).\n",
            "WARNING:matplotlib.image:Clipping input data to the valid range for imshow with RGB data ([0..1] for floats or [0..255] for integers).\n",
            "WARNING:matplotlib.image:Clipping input data to the valid range for imshow with RGB data ([0..1] for floats or [0..255] for integers).\n",
            "WARNING:matplotlib.image:Clipping input data to the valid range for imshow with RGB data ([0..1] for floats or [0..255] for integers).\n",
            "WARNING:matplotlib.image:Clipping input data to the valid range for imshow with RGB data ([0..1] for floats or [0..255] for integers).\n",
            "WARNING:matplotlib.image:Clipping input data to the valid range for imshow with RGB data ([0..1] for floats or [0..255] for integers).\n",
            "WARNING:matplotlib.image:Clipping input data to the valid range for imshow with RGB data ([0..1] for floats or [0..255] for integers).\n",
            "WARNING:matplotlib.image:Clipping input data to the valid range for imshow with RGB data ([0..1] for floats or [0..255] for integers).\n",
            "WARNING:matplotlib.image:Clipping input data to the valid range for imshow with RGB data ([0..1] for floats or [0..255] for integers).\n"
          ]
        },
        {
          "output_type": "display_data",
          "data": {
            "text/plain": [
              "<Figure size 1000x500 with 10 Axes>"
            ],
            "image/png": "[encoded data removed]"
          },
          "metadata": {}
        }
      ]
    },
    {
      "cell_type": "code",
      "source": [
        "from torch.optim.lr_scheduler import StepLR\n",
        "print('++++++++++++++++++++++++++  Group Normalization Model +++++++++++++++++++++++++++++++++++++++++')\n",
        "\n",
        "model = S8_model('GN').to(device)\n",
        "optimizer = optim.SGD(model.parameters(), lr=0.01, momentum=0.9)\n",
        "# scheduler = StepLR(optimizer, step_size=6, gamma=0.1)\n",
        "\n",
        "EPOCHS = 20\n",
        "for epoch in range(EPOCHS):\n",
        "    print(\"EPOCH:\", epoch)\n",
        "    train(model, device, train_loader, optimizer, epoch)\n",
        "    # scheduler.step()\n",
        "    test(model, device, test_loader)\n",
        "\n",
        "print('++++++++++++++++++++++++++Misclassified Images Group Normalization Model +++++++++++++++++++++++++++++++++++++++++')\n",
        "incorrect = get_incorrrect_predictions(model, test_loader, device)\n",
        "plot_incorrect_predictions(incorrect, class_map)"
      ],
      "metadata": {
        "colab": {
          "base_uri": "https://localhost:8080/",
          "height": 1000
        },
        "id": "zIbJTdhrx65g",
        "outputId": "9aa34466-4d47-4c46-ef4f-9c39f5931408"
      },
      "execution_count": 17,
      "outputs": [
        {
          "output_type": "stream",
          "name": "stdout",
          "text": [
            "++++++++++++++++++++++++++  Group Normalization Model +++++++++++++++++++++++++++++++++++++++++\n",
            "EPOCH: 0\n"
          ]
        },
        {
          "output_type": "stream",
          "name": "stderr",
          "text": [
            "Loss=1.715871810913086 Batch_id=781 Accuracy=40.19: 100%|██████████| 782/782 [00:47<00:00, 16.47it/s]\n"
          ]
        },
        {
          "output_type": "stream",
          "name": "stdout",
          "text": [
            "\n",
            "Test set: Average loss: 1.4490, Accuracy: 4755/10000 (47.55%)\n",
            "\n",
            "EPOCH: 1\n"
          ]
        },
        {
          "output_type": "stream",
          "name": "stderr",
          "text": [
            "Loss=1.6318632364273071 Batch_id=781 Accuracy=51.71: 100%|██████████| 782/782 [00:48<00:00, 16.28it/s]\n"
          ]
        },
        {
          "output_type": "stream",
          "name": "stdout",
          "text": [
            "\n",
            "Test set: Average loss: 1.2396, Accuracy: 5453/10000 (54.53%)\n",
            "\n",
            "EPOCH: 2\n"
          ]
        },
        {
          "output_type": "stream",
          "name": "stderr",
          "text": [
            "Loss=1.2120579481124878 Batch_id=781 Accuracy=57.12: 100%|██████████| 782/782 [00:46<00:00, 16.79it/s]\n"
          ]
        },
        {
          "output_type": "stream",
          "name": "stdout",
          "text": [
            "\n",
            "Test set: Average loss: 1.0809, Accuracy: 6098/10000 (60.98%)\n",
            "\n",
            "EPOCH: 3\n"
          ]
        },
        {
          "output_type": "stream",
          "name": "stderr",
          "text": [
            "Loss=1.0593732595443726 Batch_id=781 Accuracy=60.40: 100%|██████████| 782/782 [00:48<00:00, 15.97it/s]\n"
          ]
        },
        {
          "output_type": "stream",
          "name": "stdout",
          "text": [
            "\n",
            "Test set: Average loss: 1.0880, Accuracy: 6162/10000 (61.62%)\n",
            "\n",
            "EPOCH: 4\n"
          ]
        },
        {
          "output_type": "stream",
          "name": "stderr",
          "text": [
            "Loss=1.2310755252838135 Batch_id=781 Accuracy=62.95: 100%|██████████| 782/782 [00:47<00:00, 16.56it/s]\n"
          ]
        },
        {
          "output_type": "stream",
          "name": "stdout",
          "text": [
            "\n",
            "Test set: Average loss: 1.0114, Accuracy: 6352/10000 (63.52%)\n",
            "\n",
            "EPOCH: 5\n"
          ]
        },
        {
          "output_type": "stream",
          "name": "stderr",
          "text": [
            "Loss=1.3334007263183594 Batch_id=781 Accuracy=64.99: 100%|██████████| 782/782 [00:47<00:00, 16.50it/s]\n"
          ]
        },
        {
          "output_type": "stream",
          "name": "stdout",
          "text": [
            "\n",
            "Test set: Average loss: 0.9456, Accuracy: 6651/10000 (66.51%)\n",
            "\n",
            "EPOCH: 6\n"
          ]
        },
        {
          "output_type": "stream",
          "name": "stderr",
          "text": [
            "Loss=0.8334394693374634 Batch_id=781 Accuracy=66.76: 100%|██████████| 782/782 [00:48<00:00, 16.11it/s]\n"
          ]
        },
        {
          "output_type": "stream",
          "name": "stdout",
          "text": [
            "\n",
            "Test set: Average loss: 0.9017, Accuracy: 6807/10000 (68.07%)\n",
            "\n",
            "EPOCH: 7\n"
          ]
        },
        {
          "output_type": "stream",
          "name": "stderr",
          "text": [
            "Loss=0.7379766702651978 Batch_id=781 Accuracy=68.06: 100%|██████████| 782/782 [00:47<00:00, 16.35it/s]\n"
          ]
        },
        {
          "output_type": "stream",
          "name": "stdout",
          "text": [
            "\n",
            "Test set: Average loss: 0.9241, Accuracy: 6756/10000 (67.56%)\n",
            "\n",
            "EPOCH: 8\n"
          ]
        },
        {
          "output_type": "stream",
          "name": "stderr",
          "text": [
            "Loss=0.7600147128105164 Batch_id=781 Accuracy=69.10: 100%|██████████| 782/782 [00:48<00:00, 16.11it/s]\n"
          ]
        },
        {
          "output_type": "stream",
          "name": "stdout",
          "text": [
            "\n",
            "Test set: Average loss: 0.8339, Accuracy: 7056/10000 (70.56%)\n",
            "\n",
            "EPOCH: 9\n"
          ]
        },
        {
          "output_type": "stream",
          "name": "stderr",
          "text": [
            "Loss=0.5705125331878662 Batch_id=781 Accuracy=69.76: 100%|██████████| 782/782 [00:48<00:00, 16.08it/s]\n"
          ]
        },
        {
          "output_type": "stream",
          "name": "stdout",
          "text": [
            "\n",
            "Test set: Average loss: 0.8217, Accuracy: 7109/10000 (71.09%)\n",
            "\n",
            "EPOCH: 10\n"
          ]
        },
        {
          "output_type": "stream",
          "name": "stderr",
          "text": [
            "Loss=0.5390984416007996 Batch_id=781 Accuracy=70.72: 100%|██████████| 782/782 [00:46<00:00, 16.71it/s]\n"
          ]
        },
        {
          "output_type": "stream",
          "name": "stdout",
          "text": [
            "\n",
            "Test set: Average loss: 0.8064, Accuracy: 7107/10000 (71.07%)\n",
            "\n",
            "EPOCH: 11\n"
          ]
        },
        {
          "output_type": "stream",
          "name": "stderr",
          "text": [
            "Loss=0.5925275683403015 Batch_id=781 Accuracy=71.34: 100%|██████████| 782/782 [00:47<00:00, 16.46it/s]\n"
          ]
        },
        {
          "output_type": "stream",
          "name": "stdout",
          "text": [
            "\n",
            "Test set: Average loss: 0.8267, Accuracy: 7086/10000 (70.86%)\n",
            "\n",
            "EPOCH: 12\n"
          ]
        },
        {
          "output_type": "stream",
          "name": "stderr",
          "text": [
            "Loss=0.22778187692165375 Batch_id=781 Accuracy=72.01: 100%|██████████| 782/782 [00:50<00:00, 15.63it/s]\n"
          ]
        },
        {
          "output_type": "stream",
          "name": "stdout",
          "text": [
            "\n",
            "Test set: Average loss: 0.8081, Accuracy: 7206/10000 (72.06%)\n",
            "\n",
            "EPOCH: 13\n"
          ]
        },
        {
          "output_type": "stream",
          "name": "stderr",
          "text": [
            "Loss=0.7086950540542603 Batch_id=781 Accuracy=72.29: 100%|██████████| 782/782 [00:48<00:00, 16.23it/s]\n"
          ]
        },
        {
          "output_type": "stream",
          "name": "stdout",
          "text": [
            "\n",
            "Test set: Average loss: 0.7759, Accuracy: 7233/10000 (72.33%)\n",
            "\n",
            "EPOCH: 14\n"
          ]
        },
        {
          "output_type": "stream",
          "name": "stderr",
          "text": [
            "Loss=0.9667683839797974 Batch_id=781 Accuracy=72.86: 100%|██████████| 782/782 [00:46<00:00, 16.67it/s]\n"
          ]
        },
        {
          "output_type": "stream",
          "name": "stdout",
          "text": [
            "\n",
            "Test set: Average loss: 0.8065, Accuracy: 7149/10000 (71.49%)\n",
            "\n",
            "EPOCH: 15\n"
          ]
        },
        {
          "output_type": "stream",
          "name": "stderr",
          "text": [
            "Loss=0.8428485989570618 Batch_id=781 Accuracy=73.09: 100%|██████████| 782/782 [00:46<00:00, 16.68it/s]\n"
          ]
        },
        {
          "output_type": "stream",
          "name": "stdout",
          "text": [
            "\n",
            "Test set: Average loss: 0.7555, Accuracy: 7371/10000 (73.71%)\n",
            "\n",
            "EPOCH: 16\n"
          ]
        },
        {
          "output_type": "stream",
          "name": "stderr",
          "text": [
            "Loss=1.0400371551513672 Batch_id=781 Accuracy=73.61: 100%|██████████| 782/782 [00:46<00:00, 16.74it/s]\n"
          ]
        },
        {
          "output_type": "stream",
          "name": "stdout",
          "text": [
            "\n",
            "Test set: Average loss: 0.7530, Accuracy: 7347/10000 (73.47%)\n",
            "\n",
            "EPOCH: 17\n"
          ]
        },
        {
          "output_type": "stream",
          "name": "stderr",
          "text": [
            "Loss=1.197727084159851 Batch_id=781 Accuracy=73.75: 100%|██████████| 782/782 [00:48<00:00, 16.17it/s]\n"
          ]
        },
        {
          "output_type": "stream",
          "name": "stdout",
          "text": [
            "\n",
            "Test set: Average loss: 0.7393, Accuracy: 7383/10000 (73.83%)\n",
            "\n",
            "EPOCH: 18\n"
          ]
        },
        {
          "output_type": "stream",
          "name": "stderr",
          "text": [
            "Loss=1.1546063423156738 Batch_id=781 Accuracy=74.23: 100%|██████████| 782/782 [00:48<00:00, 16.15it/s]\n"
          ]
        },
        {
          "output_type": "stream",
          "name": "stdout",
          "text": [
            "\n",
            "Test set: Average loss: 0.7453, Accuracy: 7381/10000 (73.81%)\n",
            "\n",
            "EPOCH: 19\n"
          ]
        },
        {
          "output_type": "stream",
          "name": "stderr",
          "text": [
            "Loss=0.6277830004692078 Batch_id=781 Accuracy=74.61: 100%|██████████| 782/782 [00:48<00:00, 16.06it/s]\n"
          ]
        },
        {
          "output_type": "stream",
          "name": "stdout",
          "text": [
            "\n",
            "Test set: Average loss: 0.7243, Accuracy: 7475/10000 (74.75%)\n",
            "\n",
            "++++++++++++++++++++++++++Misclassified Images Group Normalization Model +++++++++++++++++++++++++++++++++++++++++\n"
          ]
        },
        {
          "output_type": "stream",
          "name": "stderr",
          "text": [
            "WARNING:matplotlib.image:Clipping input data to the valid range for imshow with RGB data ([0..1] for floats or [0..255] for integers).\n",
            "WARNING:matplotlib.image:Clipping input data to the valid range for imshow with RGB data ([0..1] for floats or [0..255] for integers).\n",
            "WARNING:matplotlib.image:Clipping input data to the valid range for imshow with RGB data ([0..1] for floats or [0..255] for integers).\n",
            "WARNING:matplotlib.image:Clipping input data to the valid range for imshow with RGB data ([0..1] for floats or [0..255] for integers).\n",
            "WARNING:matplotlib.image:Clipping input data to the valid range for imshow with RGB data ([0..1] for floats or [0..255] for integers).\n",
            "WARNING:matplotlib.image:Clipping input data to the valid range for imshow with RGB data ([0..1] for floats or [0..255] for integers).\n",
            "WARNING:matplotlib.image:Clipping input data to the valid range for imshow with RGB data ([0..1] for floats or [0..255] for integers).\n",
            "WARNING:matplotlib.image:Clipping input data to the valid range for imshow with RGB data ([0..1] for floats or [0..255] for integers).\n",
            "WARNING:matplotlib.image:Clipping input data to the valid range for imshow with RGB data ([0..1] for floats or [0..255] for integers).\n",
            "WARNING:matplotlib.image:Clipping input data to the valid range for imshow with RGB data ([0..1] for floats or [0..255] for integers).\n"
          ]
        },
        {
          "output_type": "display_data",
          "data": {
            "text/plain": [
              "<Figure size 1000x500 with 10 Axes>"
            ],
            "image/png": "[encoded data removed]"
          },
          "metadata": {}
        }
      ]
    },
    {
      "cell_type": "code",
      "source": [],
      "metadata": {
        "id": "BNPvOzRq52M5"
      },
      "execution_count": 72,
      "outputs": []
    }
  ]
}